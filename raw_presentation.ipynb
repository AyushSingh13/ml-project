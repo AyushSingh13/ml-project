{
 "cells": [
  {
   "cell_type": "markdown",
   "metadata": {},
   "source": [
    "# Final Project - SMS Spam Filtering\n",
    "### 600.475 - Introduction to Machine Learning\n",
    "### Archan Patel, et. al. \n",
    "\n",
    "We aim to create a simple binary spam classifier based on the UCI SMS Spam Collection Dataset. \n",
    "\n",
    "    https://www.kaggle.com/uciml/sms-spam-collection-dataset\n",
    "\n",
    "Messages in the dataset are classifed as either \"ham\" for regular legitimate messages or spam. \n"
   ]
  },
  {
   "cell_type": "code",
   "execution_count": 108,
   "metadata": {
    "collapsed": false
   },
   "outputs": [],
   "source": [
    "%matplotlib inline\n",
    "import numpy as np\n",
    "import pandas as pd\n",
    "import csv\n",
    "import matplotlib.pyplot as plt\n",
    "#from textblob import TextBlob\n",
    "#import cPickle\n",
    "from sklearn.model_selection import train_test_split\n",
    "from sklearn.feature_extraction.text import CountVectorizer\n",
    "\n",
    "from sklearn.naive_bayes import MultinomialNB, BernoulliNB\n",
    "from sklearn.metrics import accuracy_score,confusion_matrix,classification_report"
   ]
  },
  {
   "cell_type": "markdown",
   "metadata": {},
   "source": [
    "### Data Input\n",
    "First we read the data from the data/spam.csv as retrieve from Kaggle.\n",
    "We then partition the data into training, validation, and testing sets. Much of the input and conversion to bag of words was taken from:\n",
    "\n",
    "http://radimrehurek.com/data_science_python/"
   ]
  },
  {
   "cell_type": "code",
   "execution_count": 109,
   "metadata": {
    "collapsed": false
   },
   "outputs": [
    {
     "data": {
      "text/html": [
       "<div>\n",
       "<table border=\"1\" class=\"dataframe\">\n",
       "  <thead>\n",
       "    <tr style=\"text-align: right;\">\n",
       "      <th></th>\n",
       "      <th>class</th>\n",
       "      <th>text</th>\n",
       "    </tr>\n",
       "  </thead>\n",
       "  <tbody>\n",
       "    <tr>\n",
       "      <th>0</th>\n",
       "      <td>ham</td>\n",
       "      <td>Go until jurong point, crazy.. Available only ...</td>\n",
       "    </tr>\n",
       "    <tr>\n",
       "      <th>1</th>\n",
       "      <td>ham</td>\n",
       "      <td>Ok lar... Joking wif u oni...</td>\n",
       "    </tr>\n",
       "    <tr>\n",
       "      <th>2</th>\n",
       "      <td>spam</td>\n",
       "      <td>Free entry in 2 a wkly comp to win FA Cup fina...</td>\n",
       "    </tr>\n",
       "    <tr>\n",
       "      <th>3</th>\n",
       "      <td>ham</td>\n",
       "      <td>U dun say so early hor... U c already then say...</td>\n",
       "    </tr>\n",
       "    <tr>\n",
       "      <th>4</th>\n",
       "      <td>ham</td>\n",
       "      <td>Nah I don't think he goes to usf, he lives aro...</td>\n",
       "    </tr>\n",
       "  </tbody>\n",
       "</table>\n",
       "</div>"
      ],
      "text/plain": [
       "  class                                               text\n",
       "0   ham  Go until jurong point, crazy.. Available only ...\n",
       "1   ham                      Ok lar... Joking wif u oni...\n",
       "2  spam  Free entry in 2 a wkly comp to win FA Cup fina...\n",
       "3   ham  U dun say so early hor... U c already then say...\n",
       "4   ham  Nah I don't think he goes to usf, he lives aro..."
      ]
     },
     "execution_count": 109,
     "metadata": {},
     "output_type": "execute_result"
    }
   ],
   "source": [
    "#read in csv, and take relevant columns\n",
    "messages = pd.read_csv('./data/spam.csv',skiprows=1, names=[\"class\", \"text\", \"r1\", \"r2\", 'r3'], encoding='latin-1')\n",
    "del messages['r1']\n",
    "del messages['r2']\n",
    "del messages['r3']\n",
    "#messages['v2'] =messages['v2'].astype(str)\n",
    "\n",
    "#Add a length column\n",
    "#messages['length'] = messages['text'].map(lambda text: len(text))\n",
    "messages.head()"
   ]
  },
  {
   "cell_type": "code",
   "execution_count": 110,
   "metadata": {
    "collapsed": false
   },
   "outputs": [],
   "source": [
    "#TO-DO: add a feature for the size of the string\n",
    "\n",
    "#Below code adds length to the chart above.\n",
    "#print(\"Mean of ham length: \"+str(np.mean(messages[messages['class']=='ham']['length'])))\n",
    "#print(\"Mean of spam length: \"+str(np.mean(messages[messages['class']=='spam']['length'])))\n",
    "#messages.length.plot(bins=20, kind='hist')\n",
    "#messages[messages['class']=='ham']['length']\n",
    "#messages.hist(column='length', by='class', bins=50)\n",
    "\n",
    "\n",
    "#Split into training and validation data\n",
    "#TO-DO: SWITCH TO K-fold cross-validation, just used as a placeholder\n",
    "X_train,X_test,y_train,y_test = train_test_split(messages[\"text\"],messages[\"class\"], test_size = 0.2, random_state = 10)"
   ]
  },
  {
   "cell_type": "code",
   "execution_count": 111,
   "metadata": {
    "collapsed": false
   },
   "outputs": [],
   "source": [
    "# Now we create a bag of words model.\n",
    "# Convert a collection of text documents to a matrix of token counts\n",
    "from sklearn.feature_extraction.text import TfidfVectorizer #Alternate Vectorizer, look at docs, not as good\n",
    "vect = CountVectorizer(analyzer='word', ngram_range=(1, 3),stop_words='english') #uses 1 - 3 word length grams\n",
    "vect.fit(X_train)\n",
    "X_train_df = vect.transform(X_train)\n",
    "X_test_df = vect.transform(X_test)"
   ]
  },
  {
   "cell_type": "markdown",
   "metadata": {},
   "source": [
    "### Data Format\n",
    "Here we can determine a representation for raw text of the text messages. The methods used for the representation of text will determine the features of our data.\n",
    "\n",
    "The following representations where used:\n",
    "\n",
    "| Representation       | How it works   |\n",
    "| ------------- |:-------------:|\n",
    "| Bag of Words      | [stuff] |\n",
    "|       | [stuff]      |\n",
    "|  | [stuff]      |"
   ]
  },
  {
   "cell_type": "markdown",
   "metadata": {},
   "source": [
    "# Character Count\n",
    "This gives us a glimpse into what the data looks like. \n",
    "\n",
    "Based on kernel written by Jessica Yung"
   ]
  },
  {
   "cell_type": "code",
   "execution_count": 112,
   "metadata": {
    "collapsed": false
   },
   "outputs": [
    {
     "name": "stdout",
     "output_type": "stream",
     "text": [
      "# Summary statistics for character count of all messages\n",
      "mean-all 80.12 \n",
      "std-all 59.69 \n",
      "min-all 2.00 \n",
      "max-all 910.00\n"
     ]
    },
    {
     "data": {
      "image/png": "[encoded data removed]",
      "text/plain": [
       "<matplotlib.figure.Figure at 0x7f2a0a3262d0>"
      ]
     },
     "metadata": {},
     "output_type": "display_data"
    }
   ],
   "source": [
    "import seaborn as sns\n",
    "pal = sns.color_palette()\n",
    "\n",
    "# Read in data\n",
    "df = pd.read_csv('./data/spam.csv', encoding='latin-1')\n",
    "df = df.drop([\"Unnamed: 2\", \"Unnamed: 3\", \"Unnamed: 4\"], axis=1)\n",
    "df = df.rename(columns={\"v1\":\"label\", \"v2\":\"sms_text\"})\n",
    "\n",
    "# Character count\n",
    "msgs = pd.Series(df['sms_text'].tolist())\n",
    "ham_messages = pd.Series(df[df['label'] == 'ham']['sms_text'].tolist())\n",
    "spam_messages = pd.Series(df[df['label'] == 'spam']['sms_text'].tolist())\n",
    "\n",
    "# Create the corresponding distribution of character counts for each list.\n",
    "# We count the number of characters in each message using the `len` function.\n",
    "dist_all = msgs.apply(len)\n",
    "dist_ham = ham_messages.apply(len)\n",
    "dist_spam = spam_messages.apply(len)\n",
    "\n",
    "# Plot distribution of character count of all messages\n",
    "plt.figure(figsize=(12, 8))\n",
    "plt.hist(dist_all, bins=100, range=[0,400], color=pal[3], normed=True, label='All')\n",
    "plt.title('Normalised histogram of character count in all messages', fontsize=15)\n",
    "plt.legend()\n",
    "plt.xlabel('Number of characters', fontsize=15)\n",
    "plt.ylabel('Probability', fontsize=15)\n",
    "\n",
    "print('# Summary statistics for character count of all messages')\n",
    "print('mean-all {:.2f} \\nstd-all {:.2f} \\nmin-all {:.2f} \\nmax-all {:.2f}'.format(dist_all.mean(), \n",
    "                          dist_all.std(), dist_all.min(), dist_all.max()))"
   ]
  },
  {
   "cell_type": "code",
   "execution_count": 113,
   "metadata": {
    "collapsed": false
   },
   "outputs": [
    {
     "name": "stdout",
     "output_type": "stream",
     "text": [
      "# Summary statistics for character count of ham vs spam messages\n",
      "mean-ham  71.02   mean-spam 138.87 \n",
      "std-ham   58.02   std-spam   29.18 \n",
      "min-ham    2.00   min-ham    13.00 \n",
      "max-ham  910.00   max-spam  224.00\n"
     ]
    },
    {
     "data": {
      "image/png": "[encoded data removed]",
      "text/plain": [
       "<matplotlib.figure.Figure at 0x7f2a1096e990>"
      ]
     },
     "metadata": {},
     "output_type": "display_data"
    }
   ],
   "source": [
    "# Plot distributions of character counts for spam vs ham messages\n",
    "\n",
    "plt.figure(figsize=(12,8))\n",
    "plt.hist(dist_ham, bins=100, range=[0,250], color=pal[1], normed=True, label='ham')\n",
    "plt.hist(dist_spam, bins=100, range=[0, 250], color=pal[2], normed=True, alpha=0.5, label='spam')\n",
    "plt.title('Normalised histogram of character count in messages', fontsize=15)\n",
    "plt.legend()\n",
    "plt.xlabel('Number of characters', fontsize=15)\n",
    "plt.ylabel('Probability', fontsize=15)\n",
    "\n",
    "print('# Summary statistics for character count of ham vs spam messages')\n",
    "print('mean-ham  {:.2f}   mean-spam {:.2f} \\nstd-ham   {:.2f}   std-spam   {:.2f} \\nmin-ham    {:.2f}   min-ham    {:.2f} \\nmax-ham  {:.2f}   max-spam  {:.2f}'.format(dist_ham.mean(), \n",
    "                         dist_spam.mean(), dist_ham.std(), dist_spam.std(), dist_ham.min(), dist_spam.min(), dist_ham.max(), dist_spam.max()))"
   ]
  },
  {
   "cell_type": "markdown",
   "metadata": {},
   "source": [
    "# Multinomial Naive Bayes"
   ]
  },
  {
   "cell_type": "code",
   "execution_count": 114,
   "metadata": {
    "collapsed": false
   },
   "outputs": [
    {
     "data": {
      "text/plain": [
       "0.98923766816143499"
      ]
     },
     "execution_count": 114,
     "metadata": {},
     "output_type": "execute_result"
    }
   ],
   "source": [
    "prediction = dict() # Holds all classes for prediction.\n",
    "\n",
    "#really simple to create a model and train it.\n",
    "model = MultinomialNB()\n",
    "model.fit(X_train_df, y_train)\n",
    "prediction[\"MultinomialNB\"] = model.predict(X_test_df)\n",
    "\n",
    "accuracy_score(y_test, prediction[\"MultinomialNB\"])"
   ]
  },
  {
   "cell_type": "code",
   "execution_count": 115,
   "metadata": {
    "collapsed": false
   },
   "outputs": [
    {
     "data": {
      "text/plain": [
       "693     Will purchase d stuff today and mail to you. D...\n",
       "5475    Dhoni have luck to win some big title.so we wi...\n",
       "4860                               Nokia phone is lovly..\n",
       "Name: text, dtype: object"
      ]
     },
     "execution_count": 115,
     "metadata": {},
     "output_type": "execute_result"
    }
   ],
   "source": [
    "#y_test less than actual prediction\n",
    "#i.e. prediction = 1 (spam), y_test = 0 (ham)\n",
    "X_test[y_test < prediction[\"MultinomialNB\"] ]"
   ]
  },
  {
   "cell_type": "code",
   "execution_count": 116,
   "metadata": {
    "collapsed": false
   },
   "outputs": [
    {
     "data": {
      "text/plain": [
       "5035    You won't believe it but it's true. It's Incre...\n",
       "3130    LookAtMe!: Thanks for your purchase of a video...\n",
       "2002    TheMob>Yo yo yo-Here comes a new selection of ...\n",
       "68      Did you hear about the new \\Divorce Barbie\\\"? ...\n",
       "2662    Hello darling how are you today? I would love ...\n",
       "4211    Missed call alert. These numbers called but le...\n",
       "3572    You won't believe it but it's true. It's Incre...\n",
       "4912    Goal! Arsenal 4 (Henry, 7 v Liverpool 2 Henry ...\n",
       "3979                                   ringtoneking 84484\n",
       "Name: text, dtype: object"
      ]
     },
     "execution_count": 116,
     "metadata": {},
     "output_type": "execute_result"
    }
   ],
   "source": [
    "# Prediction ham, actually Spam\n",
    "X_test[y_test > prediction[\"MultinomialNB\"] ]"
   ]
  },
  {
   "cell_type": "code",
   "execution_count": 117,
   "metadata": {
    "collapsed": false
   },
   "outputs": [
    {
     "data": {
      "text/plain": [
       "array([[962,   3],\n",
       "       [  9, 141]])"
      ]
     },
     "execution_count": 117,
     "metadata": {},
     "output_type": "execute_result"
    }
   ],
   "source": [
    "#Confusion matrix\n",
    "conf_mat = confusion_matrix(y_test, prediction['MultinomialNB'])\n",
    "conf_mat"
   ]
  },
  {
   "cell_type": "code",
   "execution_count": 118,
   "metadata": {
    "collapsed": false
   },
   "outputs": [
    {
     "data": {
      "text/plain": [
       "0.92286995515695069"
      ]
     },
     "execution_count": 118,
     "metadata": {},
     "output_type": "execute_result"
    }
   ],
   "source": [
    "model = BernoulliNB()\n",
    "model.fit(X_train_df, y_train)\n",
    "prediction[\"BernoulliNB\"] = model.predict(X_test_df)\n",
    "\n",
    "accuracy_score(y_test, prediction[\"BernoulliNB\"])"
   ]
  },
  {
   "cell_type": "code",
   "execution_count": 119,
   "metadata": {
    "collapsed": false
   },
   "outputs": [
    {
     "data": {
      "text/plain": [
       "array([[965,   0],\n",
       "       [ 86,  64]])"
      ]
     },
     "execution_count": 119,
     "metadata": {},
     "output_type": "execute_result"
    }
   ],
   "source": [
    "conf_mat = confusion_matrix(y_test, prediction['BernoulliNB'])\n",
    "conf_mat"
   ]
  },
  {
   "cell_type": "markdown",
   "metadata": {},
   "source": [
    "# Classification via Multi-layer Perceptron"
   ]
  },
  {
   "cell_type": "code",
   "execution_count": 120,
   "metadata": {
    "collapsed": false
   },
   "outputs": [
    {
     "name": "stderr",
     "output_type": "stream",
     "text": [
      "/home/archan/anaconda2/lib/python2.7/site-packages/sklearn/neural_network/multilayer_perceptron.py:565: UserWarning: Training interrupted by user.\n",
      "  warnings.warn(\"Training interrupted by user.\")\n"
     ]
    },
    {
     "data": {
      "text/plain": [
       "0.97668161434977574"
      ]
     },
     "execution_count": 120,
     "metadata": {},
     "output_type": "execute_result"
    }
   ],
   "source": [
    "from sklearn.neural_network import MLPClassifier\n",
    "model = MLPClassifier()\n",
    "model.fit(X_train_df, y_train)\n",
    "prediction[\"NeuralNet\"] = model.predict(X_test_df)\n",
    "\n",
    "accuracy_score(y_test, prediction[\"NeuralNet\"])\n",
    "\n",
    "\n",
    "#TBH I think this is the bayes Risk without adding additional features"
   ]
  },
  {
   "cell_type": "code",
   "execution_count": 13,
   "metadata": {
    "collapsed": false
   },
   "outputs": [
    {
     "data": {
      "text/plain": [
       "5035    You won't believe it but it's true. It's Incre...\n",
       "1153    1000's of girls many local 2 u who r virgins 2...\n",
       "2574    Your next amazing xxx PICSFREE1 video will be ...\n",
       "263     Hey I am really horny want to chat or see me n...\n",
       "4569    Wanna have a laugh? Try CHIT-CHAT on your mobi...\n",
       "3130    LookAtMe!: Thanks for your purchase of a video...\n",
       "2294     You have 1 new message. Please call 08718738034.\n",
       "1506    Thanks for the Vote. Now sing along with the s...\n",
       "2002    TheMob>Yo yo yo-Here comes a new selection of ...\n",
       "4071    Loans for any purpose even if you have Bad Cre...\n",
       "1327    Ur balance is now å£500. Ur next question is: ...\n",
       "2939     You have 1 new message. Please call 08712400200.\n",
       "164     BangBabes Ur order is on the way. U SHOULD rec...\n",
       "4525    I want some cock! My hubby's away, I need a re...\n",
       "3546    Rock yr chik. Get 100's of filthy films &XXX p...\n",
       "54      SMS. ac Sptv: The New Jersey Devils and the De...\n",
       "68      Did you hear about the new \\Divorce Barbie\\\"? ...\n",
       "2662    Hello darling how are you today? I would love ...\n",
       "4904    Warner Village 83118 C Colin Farrell in SWAT t...\n",
       "4211    Missed call alert. These numbers called but le...\n",
       "606     XCLUSIVE@CLUBSAISAI 2MOROW 28/5 SOIREE SPECIAL...\n",
       "3572    You won't believe it but it's true. It's Incre...\n",
       "3139    sexy sexy cum and text me im wet and warm and ...\n",
       "760     Romantic Paris. 2 nights, 2 flights from å£79 ...\n",
       "4912    Goal! Arsenal 4 (Henry, 7 v Liverpool 2 Henry ...\n",
       "2913    Sorry! U can not unsubscribe yet. THE MOB offe...\n",
       "2846    Free-message: Jamster!Get the crazy frog sound...\n",
       "1044    We know someone who you know that fancies you....\n",
       "3979                                   ringtoneking 84484\n",
       "4014    You will be receiving this week's Triple Echo ...\n",
       "3940    Free Msg: get Gnarls Barkleys \\Crazy\\\" rington...\n",
       "Name: text, dtype: object"
      ]
     },
     "execution_count": 13,
     "metadata": {},
     "output_type": "execute_result"
    }
   ],
   "source": [
    "#Prediction ham, actually Spam\n",
    "X_test[y_test > prediction[\"NeuralNet\"] ]"
   ]
  },
  {
   "cell_type": "code",
   "execution_count": 14,
   "metadata": {
    "collapsed": false
   },
   "outputs": [
    {
     "name": "stdout",
     "output_type": "stream",
     "text": [
      "(1115,)\n",
      "(1115,)\n"
     ]
    }
   ],
   "source": [
    "print y_test.shape\n",
    "print prediction[\"MultinomialNB\"].shape"
   ]
  },
  {
   "cell_type": "markdown",
   "metadata": {},
   "source": [
    "# Classification via K Nearest Neighbors"
   ]
  },
  {
   "cell_type": "markdown",
   "metadata": {},
   "source": [
    "First, run the classifier."
   ]
  },
  {
   "cell_type": "code",
   "execution_count": 101,
   "metadata": {
    "collapsed": false
   },
   "outputs": [
    {
     "ename": "IndexError",
     "evalue": "only integers, slices (`:`), ellipsis (`...`), numpy.newaxis (`None`) and integer or boolean arrays are valid indices",
     "output_type": "error",
     "traceback": [
      "\u001b[0;31m---------------------------------------------------------------------------\u001b[0m",
      "\u001b[0;31mIndexError\u001b[0m                                Traceback (most recent call last)",
      "\u001b[0;32m<ipython-input-101-f0e040ea2ec0>\u001b[0m in \u001b[0;36m<module>\u001b[0;34m()\u001b[0m\n\u001b[1;32m      3\u001b[0m \u001b[0mmodel\u001b[0m \u001b[0;34m=\u001b[0m \u001b[0mKNeighborsClassifier\u001b[0m\u001b[0;34m(\u001b[0m\u001b[0mn_neighbors\u001b[0m\u001b[0;34m=\u001b[0m\u001b[0;36m4\u001b[0m\u001b[0;34m)\u001b[0m\u001b[0;34m\u001b[0m\u001b[0m\n\u001b[1;32m      4\u001b[0m \u001b[0mmodel\u001b[0m\u001b[0;34m.\u001b[0m\u001b[0mfit\u001b[0m\u001b[0;34m(\u001b[0m\u001b[0mX_train_df\u001b[0m\u001b[0;34m,\u001b[0m \u001b[0my_train\u001b[0m\u001b[0;34m)\u001b[0m\u001b[0;34m\u001b[0m\u001b[0m\n\u001b[0;32m----> 5\u001b[0;31m \u001b[0mprediction\u001b[0m\u001b[0;34m[\u001b[0m\u001b[0;34m\"KNN\"\u001b[0m\u001b[0;34m]\u001b[0m \u001b[0;34m=\u001b[0m \u001b[0mmodel\u001b[0m\u001b[0;34m.\u001b[0m\u001b[0mpredict\u001b[0m\u001b[0;34m(\u001b[0m\u001b[0mX_test_df\u001b[0m\u001b[0;34m)\u001b[0m\u001b[0;34m\u001b[0m\u001b[0m\n\u001b[0m\u001b[1;32m      6\u001b[0m \u001b[0;34m\u001b[0m\u001b[0m\n\u001b[1;32m      7\u001b[0m \u001b[0maccuracy_score\u001b[0m\u001b[0;34m(\u001b[0m\u001b[0my_test\u001b[0m\u001b[0;34m,\u001b[0m \u001b[0mprediction\u001b[0m\u001b[0;34m[\u001b[0m\u001b[0;34m\"KNN\"\u001b[0m\u001b[0;34m]\u001b[0m\u001b[0;34m)\u001b[0m\u001b[0;34m\u001b[0m\u001b[0m\n",
      "\u001b[0;31mIndexError\u001b[0m: only integers, slices (`:`), ellipsis (`...`), numpy.newaxis (`None`) and integer or boolean arrays are valid indices"
     ]
    }
   ],
   "source": [
    "from sklearn.neighbors import KNeighborsClassifier\n",
    "\n",
    "model = KNeighborsClassifier(n_neighbors=4)\n",
    "model.fit(X_train_df, y_train)\n",
    "prediction[\"KNN\"] = model.predict(X_test_df)\n",
    "\n",
    "accuracy_score(y_test, prediction[\"KNN\"])"
   ]
  },
  {
   "cell_type": "markdown",
   "metadata": {},
   "source": [
    "Now, let's look at the data."
   ]
  },
  {
   "cell_type": "code",
   "execution_count": 92,
   "metadata": {
    "collapsed": false
   },
   "outputs": [
    {
     "data": {
      "text/plain": [
       "4353    important information 4 orange user 0789xxxxxx...\n",
       "867     PRIVATE! Your 2003 Account Statement for 07808...\n",
       "2310    You have won a Nokia 7250i. This is what you g...\n",
       "2112    You are a winner you have been specially selec...\n",
       "4515    Congrats! 2 mobile 3G Videophones R yours. cal...\n",
       "1886    Dear 0776xxxxxxx U've been invited to XCHAT. T...\n",
       "4106    HOT LIVE FANTASIES call now 08707500020 Just 2...\n",
       "2472    Final Chance! Claim ur å£150 worth of discount...\n",
       "1852    This is the 2nd time we have tried 2 contact u...\n",
       "2663    8007 FREE for 1st week! No1 Nokia tone 4 ur mo...\n",
       "1622    U have a secret admirer who is looking 2 make ...\n",
       "4575    Congratulations ur awarded 500 of CD vouchers ...\n",
       "4989    Phony å£350 award - Todays Voda numbers ending...\n",
       "2249    Thanks for your ringtone order, ref number R83...\n",
       "2353    Please CALL 08712402902 immediately as there i...\n",
       "2093    Final Chance! Claim ur å£150 worth of discount...\n",
       "1104    Message Important information for O2 user. Tod...\n",
       "4197    Want to funk up ur fone with a weekly new tone...\n",
       "1873    You have WON a guaranteed å£1000 cash or a å£2...\n",
       "3215    URGENT! We are trying to contact U. Todays dra...\n",
       "4040    Please call our customer service representativ...\n",
       "2641    You are guaranteed the latest Nokia Phone, a 4...\n",
       "2879    Last Chance! Claim ur å£150 worth of discount ...\n",
       "1572    Ur cash-balance is currently 500 pounds - to m...\n",
       "2063    URGENT! Your mobile No *********** WON a å£2,0...\n",
       "1501    HOT LIVE FANTASIES call now 08707509020 Just 2...\n",
       "3264    44 7732584351, Do you want a New Nokia 3510i c...\n",
       "647     PRIVATE! Your 2003 Account Statement for shows...\n",
       "4086    PRIVATE! Your 2003 Account Statement for 07973...\n",
       "877     Sunshine Quiz Wkly Q! Win a top Sony DVD playe...\n",
       "3296    Todays Voda numbers ending 5226 are selected t...\n",
       "Name: text, dtype: object"
      ]
     },
     "execution_count": 92,
     "metadata": {},
     "output_type": "execute_result"
    }
   ],
   "source": [
    "X_test[prediction[\"KNN\"] == u'spam']"
   ]
  },
  {
   "cell_type": "code",
   "execution_count": 93,
   "metadata": {
    "collapsed": false
   },
   "outputs": [
    {
     "name": "stdout",
     "output_type": "stream",
     "text": [
      "4635    False\n",
      "2279    False\n",
      "4545    False\n",
      "5084    False\n",
      "5298    False\n",
      "1217    False\n",
      "3222    False\n",
      "3172     True\n",
      "4513    False\n",
      "5476    False\n",
      "1164    False\n",
      "3128    False\n",
      "502     False\n",
      "955     False\n",
      "4108    False\n",
      "4398    False\n",
      "48      False\n",
      "2341    False\n",
      "404     False\n",
      "3513    False\n",
      "1029    False\n",
      "970     False\n",
      "3767    False\n",
      "5035     True\n",
      "3114    False\n",
      "474     False\n",
      "3907    False\n",
      "4280    False\n",
      "4958    False\n",
      "341     False\n",
      "        ...  \n",
      "5528    False\n",
      "5497     True\n",
      "2046    False\n",
      "4402    False\n",
      "2864    False\n",
      "2785    False\n",
      "5537     True\n",
      "4885    False\n",
      "4414    False\n",
      "2008    False\n",
      "4320    False\n",
      "857     False\n",
      "1657    False\n",
      "1776     True\n",
      "3025    False\n",
      "5003    False\n",
      "969     False\n",
      "735     False\n",
      "1109    False\n",
      "4583    False\n",
      "4798    False\n",
      "3318    False\n",
      "4944    False\n",
      "3686    False\n",
      "3046    False\n",
      "2357    False\n",
      "1174    False\n",
      "192     False\n",
      "3606    False\n",
      "3831    False\n",
      "Name: class, dtype: bool\n"
     ]
    }
   ],
   "source": [
    "print y_test > prediction[\"KNN\"]"
   ]
  },
  {
   "cell_type": "code",
   "execution_count": 94,
   "metadata": {
    "collapsed": false
   },
   "outputs": [
    {
     "ename": "NameError",
     "evalue": "name 'KMeans' is not defined",
     "output_type": "error",
     "traceback": [
      "\u001b[0;31m---------------------------------------------------------------------------\u001b[0m",
      "\u001b[0;31mNameError\u001b[0m                                 Traceback (most recent call last)",
      "\u001b[0;32m<ipython-input-94-84a3469c2610>\u001b[0m in \u001b[0;36m<module>\u001b[0;34m()\u001b[0m\n\u001b[1;32m     13\u001b[0m \u001b[0mdata2D\u001b[0m \u001b[0;34m=\u001b[0m \u001b[0mpca\u001b[0m\u001b[0;34m.\u001b[0m\u001b[0mtransform\u001b[0m\u001b[0;34m(\u001b[0m\u001b[0mX\u001b[0m\u001b[0;34m)\u001b[0m\u001b[0;34m\u001b[0m\u001b[0m\n\u001b[1;32m     14\u001b[0m \u001b[0mplt\u001b[0m\u001b[0;34m.\u001b[0m\u001b[0mscatter\u001b[0m\u001b[0;34m(\u001b[0m\u001b[0mdata2D\u001b[0m\u001b[0;34m[\u001b[0m\u001b[0;34m:\u001b[0m\u001b[0;34m,\u001b[0m\u001b[0;36m0\u001b[0m\u001b[0;34m]\u001b[0m\u001b[0;34m,\u001b[0m \u001b[0mdata2D\u001b[0m\u001b[0;34m[\u001b[0m\u001b[0;34m:\u001b[0m\u001b[0;34m,\u001b[0m\u001b[0;36m1\u001b[0m\u001b[0;34m]\u001b[0m\u001b[0;34m,\u001b[0m \u001b[0mc\u001b[0m\u001b[0;34m=\u001b[0m\u001b[0;34m[\u001b[0m\u001b[0;34m'b'\u001b[0m\u001b[0;34m,\u001b[0m\u001b[0;34m'r'\u001b[0m\u001b[0;34m]\u001b[0m\u001b[0;34m)\u001b[0m\u001b[0;34m\u001b[0m\u001b[0m\n\u001b[0;32m---> 15\u001b[0;31m \u001b[0mkmeans\u001b[0m \u001b[0;34m=\u001b[0m \u001b[0mKMeans\u001b[0m\u001b[0;34m(\u001b[0m\u001b[0mn_clusters\u001b[0m\u001b[0;34m=\u001b[0m\u001b[0;36m2\u001b[0m\u001b[0;34m)\u001b[0m\u001b[0;34m.\u001b[0m\u001b[0mfit\u001b[0m\u001b[0;34m(\u001b[0m\u001b[0mX\u001b[0m\u001b[0;34m)\u001b[0m\u001b[0;34m\u001b[0m\u001b[0m\n\u001b[0m\u001b[1;32m     16\u001b[0m \u001b[0mcenters2D\u001b[0m \u001b[0;34m=\u001b[0m \u001b[0mpca\u001b[0m\u001b[0;34m.\u001b[0m\u001b[0mtransform\u001b[0m\u001b[0;34m(\u001b[0m\u001b[0mkmeans\u001b[0m\u001b[0;34m.\u001b[0m\u001b[0mcluster_centers_\u001b[0m\u001b[0;34m)\u001b[0m\u001b[0;34m\u001b[0m\u001b[0m\n\u001b[1;32m     17\u001b[0m \u001b[0;34m\u001b[0m\u001b[0m\n",
      "\u001b[0;31mNameError\u001b[0m: name 'KMeans' is not defined"
     ]
    },
    {
     "data": {
      "image/png": "[encoded data removed]",
      "text/plain": [
       "<matplotlib.figure.Figure at 0x7f2a09270450>"
      ]
     },
     "metadata": {},
     "output_type": "display_data"
    }
   ],
   "source": [
    "from sklearn.datasets import fetch_20newsgroups\n",
    "from sklearn.feature_extraction.text import CountVectorizer, TfidfTransformer\n",
    "from sklearn.decomposition import PCA\n",
    "from sklearn.pipeline import Pipeline\n",
    "import matplotlib.pyplot as plt\n",
    "pipeline = Pipeline([\n",
    "    ('vect', CountVectorizer()),\n",
    "    ('tfidf', TfidfTransformer()),\n",
    "])        \n",
    "X = pipeline.fit_transform(X_train).todense()\n",
    "\n",
    "pca = PCA(n_components=2).fit(X)\n",
    "data2D = pca.transform(X)\n",
    "plt.scatter(data2D[:,0], data2D[:,1], c=['b','r'])\n",
    "kmeans = KMeans(n_clusters=2).fit(X)\n",
    "centers2D = pca.transform(kmeans.cluster_centers_)\n",
    "\n",
    "plt.scatter(centers2D[:,0], centers2D[:,1], \n",
    "            marker='x', s=200, linewidths=3, c='w')\n",
    "plt.show()"
   ]
  },
  {
   "cell_type": "code",
   "execution_count": null,
   "metadata": {
    "collapsed": false
   },
   "outputs": [],
   "source": [
    "plt.imshow(confusion_matrix(y_test, prediction[\"KNN\"]), cmap=plt.cm.Blues, interpolation='nearest')\n",
    "plt.title('KNN Confusion Matrix, $n = 4$')\n",
    "plt.colorbar()\n",
    "plt.ylabel('Expected Label')\n",
    "plt.xlabel('Predicted Label')\n",
    "tick_marks = ['ham', 'spam']\n",
    "plt.xticks([0, 1], tick_marks)\n",
    "plt.yticks([0, 1], tick_marks)\n",
    "plt.show()"
   ]
  },
  {
   "cell_type": "code",
   "execution_count": null,
   "metadata": {
    "collapsed": false
   },
   "outputs": [],
   "source": [
    "print X_train_df.shape\n",
    "print X_test_df.shape"
   ]
  },
  {
   "cell_type": "code",
   "execution_count": 98,
   "metadata": {
    "collapsed": false
   },
   "outputs": [
    {
     "name": "stdout",
     "output_type": "stream",
     "text": [
      "[ 0.1  0.2  0.3  0.4  0.5  0.6  0.7  0.8  0.9]\n"
     ]
    },
    {
     "ename": "KeyboardInterrupt",
     "evalue": "",
     "output_type": "error",
     "traceback": [
      "\u001b[0;31m---------------------------------------------------------------------------\u001b[0m",
      "\u001b[0;31mKeyboardInterrupt\u001b[0m                         Traceback (most recent call last)",
      "\u001b[0;32m<ipython-input-98-ddb95b1b39e9>\u001b[0m in \u001b[0;36m<module>\u001b[0;34m()\u001b[0m\n\u001b[1;32m     16\u001b[0m         \u001b[0mmodel\u001b[0m \u001b[0;34m=\u001b[0m \u001b[0mKNeighborsClassifier\u001b[0m\u001b[0;34m(\u001b[0m\u001b[0mn_neighbors\u001b[0m\u001b[0;34m=\u001b[0m\u001b[0mi\u001b[0m\u001b[0;34m)\u001b[0m\u001b[0;34m\u001b[0m\u001b[0m\n\u001b[1;32m     17\u001b[0m         \u001b[0mmodel\u001b[0m\u001b[0;34m.\u001b[0m\u001b[0mfit\u001b[0m\u001b[0;34m(\u001b[0m\u001b[0mX_train_df\u001b[0m\u001b[0;34m,\u001b[0m \u001b[0my_train\u001b[0m\u001b[0;34m)\u001b[0m\u001b[0;34m\u001b[0m\u001b[0m\n\u001b[0;32m---> 18\u001b[0;31m         \u001b[0mprediction\u001b[0m \u001b[0;34m=\u001b[0m \u001b[0mmodel\u001b[0m\u001b[0;34m.\u001b[0m\u001b[0mpredict\u001b[0m\u001b[0;34m(\u001b[0m\u001b[0mX_test_df\u001b[0m\u001b[0;34m)\u001b[0m\u001b[0;34m\u001b[0m\u001b[0m\n\u001b[0m\u001b[1;32m     19\u001b[0m         \u001b[0mloc_y\u001b[0m\u001b[0;34m.\u001b[0m\u001b[0mappend\u001b[0m\u001b[0;34m(\u001b[0m\u001b[0maccuracy_score\u001b[0m\u001b[0;34m(\u001b[0m\u001b[0my_test\u001b[0m\u001b[0;34m,\u001b[0m \u001b[0mprediction\u001b[0m\u001b[0;34m)\u001b[0m\u001b[0;34m)\u001b[0m\u001b[0;34m\u001b[0m\u001b[0m\n\u001b[1;32m     20\u001b[0m     \u001b[0mneighbor_y\u001b[0m\u001b[0;34m.\u001b[0m\u001b[0mappend\u001b[0m\u001b[0;34m(\u001b[0m\u001b[0mloc_y\u001b[0m\u001b[0;34m)\u001b[0m\u001b[0;34m\u001b[0m\u001b[0m\n",
      "\u001b[0;32m/home/archan/anaconda2/lib/python2.7/site-packages/sklearn/neighbors/classification.pyc\u001b[0m in \u001b[0;36mpredict\u001b[0;34m(self, X)\u001b[0m\n\u001b[1;32m    143\u001b[0m         \u001b[0mX\u001b[0m \u001b[0;34m=\u001b[0m \u001b[0mcheck_array\u001b[0m\u001b[0;34m(\u001b[0m\u001b[0mX\u001b[0m\u001b[0;34m,\u001b[0m \u001b[0maccept_sparse\u001b[0m\u001b[0;34m=\u001b[0m\u001b[0;34m'csr'\u001b[0m\u001b[0;34m)\u001b[0m\u001b[0;34m\u001b[0m\u001b[0m\n\u001b[1;32m    144\u001b[0m \u001b[0;34m\u001b[0m\u001b[0m\n\u001b[0;32m--> 145\u001b[0;31m         \u001b[0mneigh_dist\u001b[0m\u001b[0;34m,\u001b[0m \u001b[0mneigh_ind\u001b[0m \u001b[0;34m=\u001b[0m \u001b[0mself\u001b[0m\u001b[0;34m.\u001b[0m\u001b[0mkneighbors\u001b[0m\u001b[0;34m(\u001b[0m\u001b[0mX\u001b[0m\u001b[0;34m)\u001b[0m\u001b[0;34m\u001b[0m\u001b[0m\n\u001b[0m\u001b[1;32m    146\u001b[0m \u001b[0;34m\u001b[0m\u001b[0m\n\u001b[1;32m    147\u001b[0m         \u001b[0mclasses_\u001b[0m \u001b[0;34m=\u001b[0m \u001b[0mself\u001b[0m\u001b[0;34m.\u001b[0m\u001b[0mclasses_\u001b[0m\u001b[0;34m\u001b[0m\u001b[0m\n",
      "\u001b[0;32m/home/archan/anaconda2/lib/python2.7/site-packages/sklearn/neighbors/base.pyc\u001b[0m in \u001b[0;36mkneighbors\u001b[0;34m(self, X, n_neighbors, return_distance)\u001b[0m\n\u001b[1;32m    357\u001b[0m                     **self.effective_metric_params_)\n\u001b[1;32m    358\u001b[0m \u001b[0;34m\u001b[0m\u001b[0m\n\u001b[0;32m--> 359\u001b[0;31m             \u001b[0mneigh_ind\u001b[0m \u001b[0;34m=\u001b[0m \u001b[0margpartition\u001b[0m\u001b[0;34m(\u001b[0m\u001b[0mdist\u001b[0m\u001b[0;34m,\u001b[0m \u001b[0mn_neighbors\u001b[0m \u001b[0;34m-\u001b[0m \u001b[0;36m1\u001b[0m\u001b[0;34m,\u001b[0m \u001b[0maxis\u001b[0m\u001b[0;34m=\u001b[0m\u001b[0;36m1\u001b[0m\u001b[0;34m)\u001b[0m\u001b[0;34m\u001b[0m\u001b[0m\n\u001b[0m\u001b[1;32m    360\u001b[0m             \u001b[0mneigh_ind\u001b[0m \u001b[0;34m=\u001b[0m \u001b[0mneigh_ind\u001b[0m\u001b[0;34m[\u001b[0m\u001b[0;34m:\u001b[0m\u001b[0;34m,\u001b[0m \u001b[0;34m:\u001b[0m\u001b[0mn_neighbors\u001b[0m\u001b[0;34m]\u001b[0m\u001b[0;34m\u001b[0m\u001b[0m\n\u001b[1;32m    361\u001b[0m             \u001b[0;31m# argpartition doesn't guarantee sorted order, so we sort again\u001b[0m\u001b[0;34m\u001b[0m\u001b[0;34m\u001b[0m\u001b[0m\n",
      "\u001b[0;32m/home/archan/anaconda2/lib/python2.7/site-packages/numpy/core/fromnumeric.pyc\u001b[0m in \u001b[0;36margpartition\u001b[0;34m(a, kth, axis, kind, order)\u001b[0m\n\u001b[1;32m    704\u001b[0m \u001b[0;34m\u001b[0m\u001b[0m\n\u001b[1;32m    705\u001b[0m     \"\"\"\n\u001b[0;32m--> 706\u001b[0;31m     \u001b[0;32mreturn\u001b[0m \u001b[0m_wrapfunc\u001b[0m\u001b[0;34m(\u001b[0m\u001b[0ma\u001b[0m\u001b[0;34m,\u001b[0m \u001b[0;34m'argpartition'\u001b[0m\u001b[0;34m,\u001b[0m \u001b[0mkth\u001b[0m\u001b[0;34m,\u001b[0m \u001b[0maxis\u001b[0m\u001b[0;34m=\u001b[0m\u001b[0maxis\u001b[0m\u001b[0;34m,\u001b[0m \u001b[0mkind\u001b[0m\u001b[0;34m=\u001b[0m\u001b[0mkind\u001b[0m\u001b[0;34m,\u001b[0m \u001b[0morder\u001b[0m\u001b[0;34m=\u001b[0m\u001b[0morder\u001b[0m\u001b[0;34m)\u001b[0m\u001b[0;34m\u001b[0m\u001b[0m\n\u001b[0m\u001b[1;32m    707\u001b[0m \u001b[0;34m\u001b[0m\u001b[0m\n\u001b[1;32m    708\u001b[0m \u001b[0;34m\u001b[0m\u001b[0m\n",
      "\u001b[0;32m/home/archan/anaconda2/lib/python2.7/site-packages/numpy/core/fromnumeric.pyc\u001b[0m in \u001b[0;36m_wrapfunc\u001b[0;34m(obj, method, *args, **kwds)\u001b[0m\n\u001b[1;32m     55\u001b[0m \u001b[0;32mdef\u001b[0m \u001b[0m_wrapfunc\u001b[0m\u001b[0;34m(\u001b[0m\u001b[0mobj\u001b[0m\u001b[0;34m,\u001b[0m \u001b[0mmethod\u001b[0m\u001b[0;34m,\u001b[0m \u001b[0;34m*\u001b[0m\u001b[0margs\u001b[0m\u001b[0;34m,\u001b[0m \u001b[0;34m**\u001b[0m\u001b[0mkwds\u001b[0m\u001b[0;34m)\u001b[0m\u001b[0;34m:\u001b[0m\u001b[0;34m\u001b[0m\u001b[0m\n\u001b[1;32m     56\u001b[0m     \u001b[0;32mtry\u001b[0m\u001b[0;34m:\u001b[0m\u001b[0;34m\u001b[0m\u001b[0m\n\u001b[0;32m---> 57\u001b[0;31m         \u001b[0;32mreturn\u001b[0m \u001b[0mgetattr\u001b[0m\u001b[0;34m(\u001b[0m\u001b[0mobj\u001b[0m\u001b[0;34m,\u001b[0m \u001b[0mmethod\u001b[0m\u001b[0;34m)\u001b[0m\u001b[0;34m(\u001b[0m\u001b[0;34m*\u001b[0m\u001b[0margs\u001b[0m\u001b[0;34m,\u001b[0m \u001b[0;34m**\u001b[0m\u001b[0mkwds\u001b[0m\u001b[0;34m)\u001b[0m\u001b[0;34m\u001b[0m\u001b[0m\n\u001b[0m\u001b[1;32m     58\u001b[0m \u001b[0;34m\u001b[0m\u001b[0m\n\u001b[1;32m     59\u001b[0m     \u001b[0;31m# An AttributeError occurs if the object does not have\u001b[0m\u001b[0;34m\u001b[0m\u001b[0;34m\u001b[0m\u001b[0m\n",
      "\u001b[0;31mKeyboardInterrupt\u001b[0m: "
     ]
    }
   ],
   "source": [
    "neighbor_y = []\n",
    "test_sizes = np.linspace(.1,.9,9)\n",
    "neighbor_x = range(1,41)\n",
    "print test_sizes\n",
    "\n",
    "vect = CountVectorizer(analyzer='word', stop_words='english') #uses 1 - 3 word length grams\n",
    "\n",
    "for j in test_sizes:\n",
    "    X_train,X_test,y_train,y_test = train_test_split(\n",
    "        messages[\"text\"],messages[\"class\"], test_size = j, random_state = 10)\n",
    "    vect.fit(X_train)\n",
    "    X_train_df = vect.transform(X_train)\n",
    "    X_test_df = vect.transform(X_test)\n",
    "    loc_y = []\n",
    "    for i in neighbor_x:\n",
    "        model = KNeighborsClassifier(n_neighbors=i)\n",
    "        model.fit(X_train_df, y_train)\n",
    "        prediction = model.predict(X_test_df)\n",
    "        loc_y.append(accuracy_score(y_test, prediction))\n",
    "    neighbor_y.append(loc_y)"
   ]
  },
  {
   "cell_type": "code",
   "execution_count": null,
   "metadata": {
    "collapsed": false
   },
   "outputs": [],
   "source": [
    "plt.title('KNN Accuracy Score vs # of Neighbors')\n",
    "plt.ylabel('Accuracy Score')\n",
    "plt.xlabel('# of Neighbors')\n",
    "for i in range(len(neighbor_y)):\n",
    "    plt.plot(neighbor_x, neighbor_y[i])\n",
    "tests = [int(len(messages['class']) * size) for size in test_sizes]\n",
    "plt.legend(test_sizes, title='Test Set Proportion')\n",
    "plt.show()"
   ]
  },
  {
   "cell_type": "markdown",
   "metadata": {},
   "source": [
    "# SVM"
   ]
  },
  {
   "cell_type": "code",
   "execution_count": null,
   "metadata": {
    "collapsed": false
   },
   "outputs": [],
   "source": [
    "from sklearn import svm\n",
    "model = svm.SVC()\n",
    "model.fit(X_train_df, y_train)\n",
    "prediction['SVM'] = model.predict(X_test_df)\n",
    "\n",
    "accuracy_score(y_test, prediction['SVM'])"
   ]
  },
  {
   "cell_type": "code",
   "execution_count": 12,
   "metadata": {
    "collapsed": false
   },
   "outputs": [
    {
     "data": {
      "image/png": "[encoded data removed]",
      "text/plain": [
       "<matplotlib.figure.Figure at 0x7f2a59845850>"
      ]
     },
     "metadata": {},
     "output_type": "display_data"
    }
   ],
   "source": [
    "plt.imshow(confusion_matrix(y_test, prediction[\"SVM\"]), cmap=plt.cm.Blues, interpolation='nearest')\n",
    "plt.title('SVM Confusion Matrix, $n = 4$')\n",
    "plt.colorbar()\n",
    "plt.ylabel('Expected Label')\n",
    "plt.xlabel('Predicted Label')\n",
    "tick_marks = ['ham', 'spam']\n",
    "plt.xticks([0, 1], tick_marks)\n",
    "plt.yticks([0, 1], tick_marks)\n",
    "plt.show()"
   ]
  },
  {
   "cell_type": "markdown",
   "metadata": {
    "collapsed": true
   },
   "source": [
    "# Decision Trees"
   ]
  },
  {
   "cell_type": "code",
   "execution_count": 122,
   "metadata": {
    "collapsed": false
   },
   "outputs": [
    {
     "data": {
      "text/plain": [
       "0.97488789237668161"
      ]
     },
     "execution_count": 122,
     "metadata": {},
     "output_type": "execute_result"
    }
   ],
   "source": [
    "from sklearn import tree\n",
    "\n",
    "dtc = tree.DecisionTreeClassifier()\n",
    "dtc = dtc.fit(X_train_df, y_train)\n",
    "prediction['tree'] = dtc.predict(X_test_df)\n",
    "\n",
    "accuracy_score(y_test, prediction['tree'])"
   ]
  },
  {
   "cell_type": "code",
   "execution_count": 123,
   "metadata": {
    "collapsed": false
   },
   "outputs": [
    {
     "name": "stdout",
     "output_type": "stream",
     "text": [
      "[[956   9]\n",
      " [ 19 131]]\n"
     ]
    },
    {
     "data": {
      "image/png": "[encoded data removed]",
      "text/plain": [
       "<matplotlib.figure.Figure at 0x7f2a104ffc50>"
      ]
     },
     "metadata": {},
     "output_type": "display_data"
    }
   ],
   "source": [
    "print(confusion_matrix(y_test, prediction['tree']))\n",
    "\n",
    "plt.imshow(confusion_matrix(y_test, prediction['tree']), cmap=plt.cm.Blues, interpolation='nearest')\n",
    "plt.title('Decision Tree Confusion Matrix')\n",
    "plt.colorbar()\n",
    "plt.ylabel('Expected Label')\n",
    "plt.xlabel('Predicted Label')\n",
    "tick_marks = ['ham', 'spam']\n",
    "plt.xticks([0, 1], tick_marks)\n",
    "plt.yticks([0, 1], tick_marks)\n",
    "plt.show()"
   ]
  },
  {
   "cell_type": "code",
   "execution_count": 131,
   "metadata": {
    "collapsed": false
   },
   "outputs": [],
   "source": [
    "def hyperparameterData(model, param, params, test_sizes):\n",
    "    acc_param = []\n",
    "    vect = CountVectorizer(analyzer='word', stop_words='english') #uses 1 - 3 word length grams\n",
    "\n",
    "    for j in test_sizes:\n",
    "        X_train,X_test,y_train,y_test = train_test_split(\n",
    "            messages[\"text\"],messages[\"class\"], test_size = j, random_state = 10)\n",
    "        vect.fit(X_train)\n",
    "        X_train_df = vect.transform(X_train)\n",
    "        X_test_df = vect.transform(X_test)\n",
    "        loc_y = []\n",
    "        for i in neighbor_x:\n",
    "            model = model.set_params(**{param: i})\n",
    "            model.fit(X_train_df, y_train)\n",
    "            prediction = model.predict(X_test_df)\n",
    "            loc_y.append(accuracy_score(y_test, prediction))\n",
    "        acc_param.append(loc_y)\n",
    "    return acc_param"
   ]
  },
  {
   "cell_type": "code",
   "execution_count": null,
   "metadata": {
    "collapsed": false
   },
   "outputs": [
    {
     "name": "stdout",
     "output_type": "stream",
     "text": [
      "[ 0.1  0.2  0.3  0.4  0.5  0.6  0.7  0.8  0.9]\n"
     ]
    }
   ],
   "source": [
    "model = KNeighborsClassifier()\n",
    "model.fit(X_train_df, y_train)\n",
    "prediction['SVM'] = model.predict(X_test_df)\n",
    "\n",
    "\n",
    "test_sizes = np.linspace(.1,.9,9)\n",
    "neighbor_x = range(1,41)\n",
    "print test_sizes\n",
    "\n",
    "\n",
    "neighbor_y = hyperparameterPlot(model, 'n_neighbors', neighbor_x, test_sizes)\n",
    "plt.title('KNN Accuracy Score vs # of Neighbors')\n",
    "plt.ylabel('Accuracy Score')\n",
    "plt.xlabel('# of Neighbors')\n",
    "\n",
    "for i in range(len(neighbor_y)):\n",
    "    plt.plot(neighbor_x, neighbor_y[i])\n",
    "tests = [int(len(messages['class']) * size) for size in test_sizes]\n",
    "plt.legend(test_sizes, title='Test Set Proportion')\n",
    "plt.show()"
   ]
  },
  {
   "cell_type": "code",
   "execution_count": null,
   "metadata": {
    "collapsed": true
   },
   "outputs": [],
   "source": []
  }
 ],
 "metadata": {
  "kernelspec": {
   "display_name": "Python 2",
   "language": "python",
   "name": "python2"
  },
  "language_info": {
   "codemirror_mode": {
    "name": "ipython",
    "version": 2
   },
   "file_extension": ".py",
   "mimetype": "text/x-python",
   "name": "python",
   "nbconvert_exporter": "python",
   "pygments_lexer": "ipython2",
   "version": "2.7.13"
  }
 },
 "nbformat": 4,
 "nbformat_minor": 2
}
