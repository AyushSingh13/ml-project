{
 "cells": [
  {
   "cell_type": "markdown",
   "metadata": {},
   "source": [
    "# Final Project - SMS Spam Filtering\n",
    "### 600.475 - Introduction to Machine Learning\n",
    "### Archan Patel, et. al. \n",
    "\n",
    "We aim to create a simple binary spam classifier based on the UCI SMS Spam Collection Dataset. \n",
    "\n",
    "    https://www.kaggle.com/uciml/sms-spam-collection-dataset\n",
    "\n",
    "Messages in the dataset are classifed as either \"ham\" for regular legitimate messages or spam. \n"
   ]
  },
  {
   "cell_type": "code",
   "execution_count": 2,
   "metadata": {
    "collapsed": false
   },
   "outputs": [],
   "source": [
    "%matplotlib inline\n",
    "import numpy as np\n",
    "import pandas as pd\n",
    "import csv\n",
    "import matplotlib.pyplot as plt\n",
    "#from textblob import TextBlob\n",
    "#import cPickle\n",
    "from sklearn.model_selection import train_test_split\n",
    "from sklearn.feature_extraction.text import CountVectorizer\n",
    "\n",
    "from sklearn.naive_bayes import MultinomialNB, BernoulliNB\n",
    "from sklearn.metrics import accuracy_score,confusion_matrix,classification_report"
   ]
  },
  {
   "cell_type": "markdown",
   "metadata": {},
   "source": [
    "### Data Input\n",
    "First we read the data from the data/spam.csv as retrieve from Kaggle.\n",
    "We then partition the data into training, validation, and testing sets. Much of the input and conversion to bag of words was taken from:\n",
    "\n",
    "http://radimrehurek.com/data_science_python/"
   ]
  },
  {
   "cell_type": "code",
   "execution_count": 3,
   "metadata": {
    "collapsed": false
   },
   "outputs": [
    {
     "data": {
      "text/html": [
       "<div>\n",
       "<table border=\"1\" class=\"dataframe\">\n",
       "  <thead>\n",
       "    <tr style=\"text-align: right;\">\n",
       "      <th></th>\n",
       "      <th>class</th>\n",
       "      <th>text</th>\n",
       "    </tr>\n",
       "  </thead>\n",
       "  <tbody>\n",
       "    <tr>\n",
       "      <th>0</th>\n",
       "      <td>ham</td>\n",
       "      <td>Go until jurong point, crazy.. Available only ...</td>\n",
       "    </tr>\n",
       "    <tr>\n",
       "      <th>1</th>\n",
       "      <td>ham</td>\n",
       "      <td>Ok lar... Joking wif u oni...</td>\n",
       "    </tr>\n",
       "    <tr>\n",
       "      <th>2</th>\n",
       "      <td>spam</td>\n",
       "      <td>Free entry in 2 a wkly comp to win FA Cup fina...</td>\n",
       "    </tr>\n",
       "    <tr>\n",
       "      <th>3</th>\n",
       "      <td>ham</td>\n",
       "      <td>U dun say so early hor... U c already then say...</td>\n",
       "    </tr>\n",
       "    <tr>\n",
       "      <th>4</th>\n",
       "      <td>ham</td>\n",
       "      <td>Nah I don't think he goes to usf, he lives aro...</td>\n",
       "    </tr>\n",
       "  </tbody>\n",
       "</table>\n",
       "</div>"
      ],
      "text/plain": [
       "  class                                               text\n",
       "0   ham  Go until jurong point, crazy.. Available only ...\n",
       "1   ham                      Ok lar... Joking wif u oni...\n",
       "2  spam  Free entry in 2 a wkly comp to win FA Cup fina...\n",
       "3   ham  U dun say so early hor... U c already then say...\n",
       "4   ham  Nah I don't think he goes to usf, he lives aro..."
      ]
     },
     "execution_count": 3,
     "metadata": {},
     "output_type": "execute_result"
    }
   ],
   "source": [
    "#read in csv, and take relevant columns\n",
    "messages = pd.read_csv('./data/spam.csv',skiprows=1, names=[\"class\", \"text\", \"r1\", \"r2\", 'r3'], encoding='latin-1')\n",
    "del messages['r1']\n",
    "del messages['r2']\n",
    "del messages['r3']\n",
    "#messages['v2'] =messages['v2'].astype(str)\n",
    "\n",
    "#Add a length column\n",
    "#messages['length'] = messages['text'].map(lambda text: len(text))\n",
    "messages.head()"
   ]
  },
  {
   "cell_type": "code",
   "execution_count": 4,
   "metadata": {
    "collapsed": false
   },
   "outputs": [],
   "source": [
    "#TO-DO: add a feature for the size of the string\n",
    "\n",
    "#Below code adds length to the chart above.\n",
    "#print(\"Mean of ham length: \"+str(np.mean(messages[messages['class']=='ham']['length'])))\n",
    "#print(\"Mean of spam length: \"+str(np.mean(messages[messages['class']=='spam']['length'])))\n",
    "#messages.length.plot(bins=20, kind='hist')\n",
    "#messages[messages['class']=='ham']['length']\n",
    "#messages.hist(column='length', by='class', bins=50)\n",
    "\n",
    "\n",
    "#Split into training and validation data\n",
    "#TO-DO: SWITCH TO K-fold cross-validation, just used as a placeholder\n",
    "X_train,X_test,y_train,y_test = train_test_split(messages[\"text\"],messages[\"class\"], test_size = 0.2, random_state = 10)"
   ]
  },
  {
   "cell_type": "code",
   "execution_count": 5,
   "metadata": {
    "collapsed": false
   },
   "outputs": [],
   "source": [
    "# Now we create a bag of words model.\n",
    "# Convert a collection of text documents to a matrix of token counts\n",
    "from sklearn.feature_extraction.text import TfidfVectorizer #Alternate Vectorizer, look at docs, not as good\n",
    "vect = CountVectorizer(analyzer='word', ngram_range=(1, 3),stop_words='english') #uses 1 - 3 word length grams\n",
    "vect.fit(X_train)\n",
    "X_train_df = vect.transform(X_train)\n",
    "X_test_df = vect.transform(X_test)"
   ]
  },
  {
   "cell_type": "markdown",
   "metadata": {},
   "source": [
    "### Data Format\n",
    "Here we can determine a representation for raw text of the text messages. The methods used for the representation of text will determine the features of our data.\n",
    "\n",
    "The following representations where used:\n",
    "\n",
    "| Representation       | How it works   |\n",
    "| ------------- |:-------------:|\n",
    "| Bag of Words      | [stuff] |\n",
    "|       | [stuff]      |\n",
    "|  | [stuff]      |"
   ]
  },
  {
   "cell_type": "markdown",
   "metadata": {},
   "source": [
    "# Multinomial Naive Bayes"
   ]
  },
  {
   "cell_type": "code",
   "execution_count": 27,
   "metadata": {
    "collapsed": false
   },
   "outputs": [
    {
     "data": {
      "text/plain": [
       "0.98923766816143499"
      ]
     },
     "execution_count": 27,
     "metadata": {},
     "output_type": "execute_result"
    }
   ],
   "source": [
    "prediction = dict() # Holds all classes for prediction.\n",
    "\n",
    "#really simple to create a model and train it.\n",
    "model = MultinomialNB()\n",
    "model.fit(X_train_df, y_train)\n",
    "prediction[\"MultinomialNB\"] = model.predict(X_test_df)\n",
    "\n",
    "accuracy_score(y_test, prediction[\"MultinomialNB\"])"
   ]
  },
  {
   "cell_type": "code",
   "execution_count": 143,
   "metadata": {
    "collapsed": false
   },
   "outputs": [
    {
     "data": {
      "text/plain": [
       "693     Will purchase d stuff today and mail to you. D...\n",
       "5475    Dhoni have luck to win some big title.so we wi...\n",
       "4860                               Nokia phone is lovly..\n",
       "Name: text, dtype: object"
      ]
     },
     "execution_count": 143,
     "metadata": {},
     "output_type": "execute_result"
    }
   ],
   "source": [
    "#y_test less than actual prediction\n",
    "#i.e. prediction = 1 (spam), y_test = 0 (ham)\n",
    "X_test[y_test < prediction[\"MultinomialNB\"] ]"
   ]
  },
  {
   "cell_type": "code",
   "execution_count": 144,
   "metadata": {
    "collapsed": false
   },
   "outputs": [
    {
     "data": {
      "text/plain": [
       "5035    You won't believe it but it's true. It's Incre...\n",
       "3130    LookAtMe!: Thanks for your purchase of a video...\n",
       "2002    TheMob>Yo yo yo-Here comes a new selection of ...\n",
       "68      Did you hear about the new \\Divorce Barbie\\\"? ...\n",
       "2662    Hello darling how are you today? I would love ...\n",
       "4211    Missed call alert. These numbers called but le...\n",
       "3572    You won't believe it but it's true. It's Incre...\n",
       "4912    Goal! Arsenal 4 (Henry, 7 v Liverpool 2 Henry ...\n",
       "3979                                   ringtoneking 84484\n",
       "Name: text, dtype: object"
      ]
     },
     "execution_count": 144,
     "metadata": {},
     "output_type": "execute_result"
    }
   ],
   "source": [
    "# Prediction ham, actually Spam\n",
    "X_test[y_test > prediction[\"MultinomialNB\"] ]"
   ]
  },
  {
   "cell_type": "code",
   "execution_count": 142,
   "metadata": {
    "collapsed": false
   },
   "outputs": [
    {
     "data": {
      "text/plain": [
       "array([[962,   3],\n",
       "       [  9, 141]])"
      ]
     },
     "execution_count": 142,
     "metadata": {},
     "output_type": "execute_result"
    }
   ],
   "source": [
    "#Confusion matrix\n",
    "conf_mat = confusion_matrix(y_test, prediction['MultinomialNB'])\n",
    "conf_mat"
   ]
  },
  {
   "cell_type": "code",
   "execution_count": 94,
   "metadata": {
    "collapsed": false
   },
   "outputs": [
    {
     "data": {
      "text/plain": [
       "0.97309417040358748"
      ]
     },
     "execution_count": 94,
     "metadata": {},
     "output_type": "execute_result"
    }
   ],
   "source": [
    "model = BernoulliNB()\n",
    "model.fit(X_train_df, y_train)\n",
    "prediction[\"BernoulliNB\"] = model.predict(X_test_df)\n",
    "\n",
    "accuracy_score(y_test, prediction[\"BernoulliNB\"])"
   ]
  },
  {
   "cell_type": "code",
   "execution_count": 95,
   "metadata": {
    "collapsed": false
   },
   "outputs": [
    {
     "data": {
      "text/plain": [
       "array([[965,   0],\n",
       "       [ 30, 120]])"
      ]
     },
     "execution_count": 95,
     "metadata": {},
     "output_type": "execute_result"
    }
   ],
   "source": [
    "conf_mat = confusion_matrix(y_test, prediction['BernoulliNB'])\n",
    "conf_mat"
   ]
  },
  {
   "cell_type": "markdown",
   "metadata": {},
   "source": [
    "# Classification via Multi-layer Perceptron"
   ]
  },
  {
   "cell_type": "code",
   "execution_count": 145,
   "metadata": {
    "collapsed": false
   },
   "outputs": [
    {
     "data": {
      "text/plain": [
       "0.96771300448430497"
      ]
     },
     "execution_count": 145,
     "metadata": {},
     "output_type": "execute_result"
    }
   ],
   "source": [
    "from sklearn.neural_network import MLPClassifier\n",
    "model = MLPClassifier()\n",
    "model.fit(X_train_df, y_train)\n",
    "prediction[\"NeuralNet\"] = model.predict(X_test_df)\n",
    "\n",
    "accuracy_score(y_test, prediction[\"NeuralNet\"])\n",
    "\n",
    "\n",
    "#TBH I think this is the bayes Risk without adding additional features"
   ]
  },
  {
   "cell_type": "code",
   "execution_count": 86,
   "metadata": {
    "collapsed": false
   },
   "outputs": [
    {
     "data": {
      "text/plain": [
       "5035    You won't believe it but it's true. It's Incre...\n",
       "1153    1000's of girls many local 2 u who r virgins 2...\n",
       "3130    LookAtMe!: Thanks for your purchase of a video...\n",
       "1506    Thanks for the Vote. Now sing along with the s...\n",
       "2002    TheMob>Yo yo yo-Here comes a new selection of ...\n",
       "68      Did you hear about the new \\Divorce Barbie\\\"? ...\n",
       "2662    Hello darling how are you today? I would love ...\n",
       "4211    Missed call alert. These numbers called but le...\n",
       "3572    You won't believe it but it's true. It's Incre...\n",
       "4912    Goal! Arsenal 4 (Henry, 7 v Liverpool 2 Henry ...\n",
       "2913    Sorry! U can not unsubscribe yet. THE MOB offe...\n",
       "3979                                   ringtoneking 84484\n",
       "4014    You will be receiving this week's Triple Echo ...\n",
       "Name: text, dtype: object"
      ]
     },
     "execution_count": 86,
     "metadata": {},
     "output_type": "execute_result"
    }
   ],
   "source": [
    "#Prediction ham, actually Spam\n",
    "X_test[y_test > prediction[\"NeuralNet\"] ]"
   ]
  },
  {
   "cell_type": "code",
   "execution_count": 83,
   "metadata": {
    "collapsed": false
   },
   "outputs": [
    {
     "name": "stdout",
     "output_type": "stream",
     "text": [
      "(1115,)\n",
      "(1115,)\n"
     ]
    }
   ],
   "source": [
    "print y_test.shape\n",
    "print prediction[\"MultinomialNB\"].shape"
   ]
  },
  {
   "cell_type": "markdown",
   "metadata": {},
   "source": [
    "# Classification via K Nearest Neighbors"
   ]
  },
  {
   "cell_type": "markdown",
   "metadata": {},
   "source": [
    "First, run the classifier."
   ]
  },
  {
   "cell_type": "code",
   "execution_count": 100,
   "metadata": {
    "collapsed": false
   },
   "outputs": [
    {
     "data": {
      "text/plain": [
       "0.89327354260089686"
      ]
     },
     "execution_count": 100,
     "metadata": {},
     "output_type": "execute_result"
    }
   ],
   "source": [
    "from sklearn.neighbors import KNeighborsClassifier\n",
    "\n",
    "model = KNeighborsClassifier(n_neighbors=4)\n",
    "model.fit(X_train_df, y_train)\n",
    "prediction[\"KNN\"] = model.predict(X_test_df)\n",
    "\n",
    "accuracy_score(y_test, prediction[\"KNN\"])"
   ]
  },
  {
   "cell_type": "markdown",
   "metadata": {},
   "source": [
    "Now, let's look at the data."
   ]
  },
  {
   "cell_type": "code",
   "execution_count": 102,
   "metadata": {
    "collapsed": false
   },
   "outputs": [
    {
     "data": {
      "text/plain": [
       "4353    important information 4 orange user 0789xxxxxx...\n",
       "867     PRIVATE! Your 2003 Account Statement for 07808...\n",
       "2310    You have won a Nokia 7250i. This is what you g...\n",
       "2112    You are a winner you have been specially selec...\n",
       "4515    Congrats! 2 mobile 3G Videophones R yours. cal...\n",
       "1886    Dear 0776xxxxxxx U've been invited to XCHAT. T...\n",
       "4106    HOT LIVE FANTASIES call now 08707500020 Just 2...\n",
       "2472    Final Chance! Claim ur å£150 worth of discount...\n",
       "1852    This is the 2nd time we have tried 2 contact u...\n",
       "2663    8007 FREE for 1st week! No1 Nokia tone 4 ur mo...\n",
       "1622    U have a secret admirer who is looking 2 make ...\n",
       "4575    Congratulations ur awarded 500 of CD vouchers ...\n",
       "4989    Phony å£350 award - Todays Voda numbers ending...\n",
       "2249    Thanks for your ringtone order, ref number R83...\n",
       "2353    Please CALL 08712402902 immediately as there i...\n",
       "2093    Final Chance! Claim ur å£150 worth of discount...\n",
       "1104    Message Important information for O2 user. Tod...\n",
       "4197    Want to funk up ur fone with a weekly new tone...\n",
       "1873    You have WON a guaranteed å£1000 cash or a å£2...\n",
       "3215    URGENT! We are trying to contact U. Todays dra...\n",
       "4040    Please call our customer service representativ...\n",
       "2641    You are guaranteed the latest Nokia Phone, a 4...\n",
       "2879    Last Chance! Claim ur å£150 worth of discount ...\n",
       "1572    Ur cash-balance is currently 500 pounds - to m...\n",
       "2063    URGENT! Your mobile No *********** WON a å£2,0...\n",
       "1501    HOT LIVE FANTASIES call now 08707509020 Just 2...\n",
       "3264    44 7732584351, Do you want a New Nokia 3510i c...\n",
       "647     PRIVATE! Your 2003 Account Statement for shows...\n",
       "4086    PRIVATE! Your 2003 Account Statement for 07973...\n",
       "877     Sunshine Quiz Wkly Q! Win a top Sony DVD playe...\n",
       "3296    Todays Voda numbers ending 5226 are selected t...\n",
       "Name: text, dtype: object"
      ]
     },
     "execution_count": 102,
     "metadata": {},
     "output_type": "execute_result"
    }
   ],
   "source": [
    "X_test[prediction[\"KNN\"] == u'spam']"
   ]
  },
  {
   "cell_type": "code",
   "execution_count": 81,
   "metadata": {
    "collapsed": false
   },
   "outputs": [
    {
     "name": "stdout",
     "output_type": "stream",
     "text": [
      "4635    False\n",
      "2279    False\n",
      "4545    False\n",
      "5084    False\n",
      "5298    False\n",
      "1217    False\n",
      "3222    False\n",
      "3172     True\n",
      "4513    False\n",
      "5476    False\n",
      "1164    False\n",
      "3128    False\n",
      "502     False\n",
      "955     False\n",
      "4108    False\n",
      "4398    False\n",
      "48      False\n",
      "2341    False\n",
      "404     False\n",
      "3513    False\n",
      "1029    False\n",
      "970     False\n",
      "3767    False\n",
      "5035     True\n",
      "3114    False\n",
      "474     False\n",
      "3907    False\n",
      "4280    False\n",
      "4958    False\n",
      "341     False\n",
      "        ...  \n",
      "5528    False\n",
      "5497     True\n",
      "2046    False\n",
      "4402    False\n",
      "2864    False\n",
      "2785    False\n",
      "5537     True\n",
      "4885    False\n",
      "4414    False\n",
      "2008    False\n",
      "4320    False\n",
      "857     False\n",
      "1657    False\n",
      "1776     True\n",
      "3025    False\n",
      "5003    False\n",
      "969     False\n",
      "735     False\n",
      "1109    False\n",
      "4583    False\n",
      "4798    False\n",
      "3318    False\n",
      "4944    False\n",
      "3686    False\n",
      "3046    False\n",
      "2357    False\n",
      "1174    False\n",
      "192     False\n",
      "3606    False\n",
      "3831    False\n",
      "Name: class, dtype: bool\n"
     ]
    }
   ],
   "source": [
    "print y_test > prediction[\"KNN\"]"
   ]
  },
  {
   "cell_type": "code",
   "execution_count": 54,
   "metadata": {
    "collapsed": false
   },
   "outputs": [
    {
     "data": {
      "image/png": "[encoded data removed]",
      "text/plain": [
       "<matplotlib.figure.Figure at 0x7f2dfec367d0>"
      ]
     },
     "metadata": {},
     "output_type": "display_data"
    }
   ],
   "source": [
    "from sklearn.datasets import fetch_20newsgroups\n",
    "from sklearn.feature_extraction.text import CountVectorizer, TfidfTransformer\n",
    "from sklearn.decomposition import PCA\n",
    "from sklearn.pipeline import Pipeline\n",
    "import matplotlib.pyplot as plt\n",
    "pipeline = Pipeline([\n",
    "    ('vect', CountVectorizer()),\n",
    "    ('tfidf', TfidfTransformer()),\n",
    "])        \n",
    "X = pipeline.fit_transform(X_train).todense()\n",
    "\n",
    "pca = PCA(n_components=2).fit(X)\n",
    "data2D = pca.transform(X)\n",
    "plt.scatter(data2D[:,0], data2D[:,1], c=['b','r'])\n",
    "kmeans = KMeans(n_clusters=2).fit(X)\n",
    "centers2D = pca.transform(kmeans.cluster_centers_)\n",
    "\n",
    "plt.scatter(centers2D[:,0], centers2D[:,1], \n",
    "            marker='x', s=200, linewidths=3, c='w')\n",
    "plt.show()"
   ]
  },
  {
   "cell_type": "code",
   "execution_count": 85,
   "metadata": {
    "collapsed": false
   },
   "outputs": [
    {
     "name": "stdout",
     "output_type": "stream",
     "text": [
      "(1115,)\n",
      "(1115,)\n"
     ]
    }
   ],
   "source": [
    "print y_test.shape\n",
    "print prediction['KNN'].shape"
   ]
  },
  {
   "cell_type": "code",
   "execution_count": 115,
   "metadata": {
    "collapsed": false
   },
   "outputs": [
    {
     "ename": "UnicodeDecodeError",
     "evalue": "'ascii' codec can't decode byte 0xe0 in position 6: ordinal not in range(128)",
     "output_type": "error",
     "traceback": [
      "\u001b[0;31m---------------------------------------------------------------------------\u001b[0m",
      "\u001b[0;31mUnicodeDecodeError\u001b[0m                        Traceback (most recent call last)",
      "\u001b[0;32m<ipython-input-115-12db14afd435>\u001b[0m in \u001b[0;36m<module>\u001b[0;34m()\u001b[0m\n\u001b[1;32m      5\u001b[0m \u001b[0mplt\u001b[0m\u001b[0;34m.\u001b[0m\u001b[0mxlabel\u001b[0m\u001b[0;34m(\u001b[0m\u001b[0;34m'Predicted Label'\u001b[0m\u001b[0;34m)\u001b[0m\u001b[0;34m\u001b[0m\u001b[0m\n\u001b[1;32m      6\u001b[0m \u001b[0mtick_marks\u001b[0m \u001b[0;34m=\u001b[0m \u001b[0mmessages\u001b[0m\u001b[0;34m[\u001b[0m\u001b[0;34m'class'\u001b[0m\u001b[0;34m]\u001b[0m\u001b[0;34m\u001b[0m\u001b[0m\n\u001b[0;32m----> 7\u001b[0;31m \u001b[0mplt\u001b[0m\u001b[0;34m.\u001b[0m\u001b[0mxticks\u001b[0m\u001b[0;34m(\u001b[0m\u001b[0mtick_marks\u001b[0m\u001b[0;34m)\u001b[0m\u001b[0;34m\u001b[0m\u001b[0m\n\u001b[0m\u001b[1;32m      8\u001b[0m \u001b[0mplt\u001b[0m\u001b[0;34m.\u001b[0m\u001b[0myticks\u001b[0m\u001b[0;34m(\u001b[0m\u001b[0mtick_marks\u001b[0m\u001b[0;34m)\u001b[0m\u001b[0;34m\u001b[0m\u001b[0m\n\u001b[1;32m      9\u001b[0m \u001b[0mplt\u001b[0m\u001b[0;34m.\u001b[0m\u001b[0mshow\u001b[0m\u001b[0;34m(\u001b[0m\u001b[0;34m)\u001b[0m\u001b[0;34m\u001b[0m\u001b[0m\n",
      "\u001b[0;32m/home/nitin/anaconda/lib/python2.7/site-packages/matplotlib/pyplot.pyc\u001b[0m in \u001b[0;36mxticks\u001b[0;34m(*args, **kwargs)\u001b[0m\n\u001b[1;32m   1697\u001b[0m         \u001b[0mlabels\u001b[0m \u001b[0;34m=\u001b[0m \u001b[0max\u001b[0m\u001b[0;34m.\u001b[0m\u001b[0mget_xticklabels\u001b[0m\u001b[0;34m(\u001b[0m\u001b[0;34m)\u001b[0m\u001b[0;34m\u001b[0m\u001b[0m\n\u001b[1;32m   1698\u001b[0m     \u001b[0;32melif\u001b[0m \u001b[0mlen\u001b[0m\u001b[0;34m(\u001b[0m\u001b[0margs\u001b[0m\u001b[0;34m)\u001b[0m\u001b[0;34m==\u001b[0m\u001b[0;36m1\u001b[0m\u001b[0;34m:\u001b[0m\u001b[0;34m\u001b[0m\u001b[0m\n\u001b[0;32m-> 1699\u001b[0;31m         \u001b[0mlocs\u001b[0m \u001b[0;34m=\u001b[0m \u001b[0max\u001b[0m\u001b[0;34m.\u001b[0m\u001b[0mset_xticks\u001b[0m\u001b[0;34m(\u001b[0m\u001b[0margs\u001b[0m\u001b[0;34m[\u001b[0m\u001b[0;36m0\u001b[0m\u001b[0;34m]\u001b[0m\u001b[0;34m)\u001b[0m\u001b[0;34m\u001b[0m\u001b[0m\n\u001b[0m\u001b[1;32m   1700\u001b[0m         \u001b[0mlabels\u001b[0m \u001b[0;34m=\u001b[0m \u001b[0max\u001b[0m\u001b[0;34m.\u001b[0m\u001b[0mget_xticklabels\u001b[0m\u001b[0;34m(\u001b[0m\u001b[0;34m)\u001b[0m\u001b[0;34m\u001b[0m\u001b[0m\n\u001b[1;32m   1701\u001b[0m     \u001b[0;32melif\u001b[0m \u001b[0mlen\u001b[0m\u001b[0;34m(\u001b[0m\u001b[0margs\u001b[0m\u001b[0;34m)\u001b[0m\u001b[0;34m==\u001b[0m\u001b[0;36m2\u001b[0m\u001b[0;34m:\u001b[0m\u001b[0;34m\u001b[0m\u001b[0m\n",
      "\u001b[0;32m/home/nitin/anaconda/lib/python2.7/site-packages/matplotlib/axes/_base.pyc\u001b[0m in \u001b[0;36mset_xticks\u001b[0;34m(self, ticks, minor)\u001b[0m\n\u001b[1;32m   2962\u001b[0m         \u001b[0mACCEPTS\u001b[0m\u001b[0;34m:\u001b[0m \u001b[0msequence\u001b[0m \u001b[0mof\u001b[0m \u001b[0mfloats\u001b[0m\u001b[0;34m\u001b[0m\u001b[0m\n\u001b[1;32m   2963\u001b[0m         \"\"\"\n\u001b[0;32m-> 2964\u001b[0;31m         \u001b[0mret\u001b[0m \u001b[0;34m=\u001b[0m \u001b[0mself\u001b[0m\u001b[0;34m.\u001b[0m\u001b[0mxaxis\u001b[0m\u001b[0;34m.\u001b[0m\u001b[0mset_ticks\u001b[0m\u001b[0;34m(\u001b[0m\u001b[0mticks\u001b[0m\u001b[0;34m,\u001b[0m \u001b[0mminor\u001b[0m\u001b[0;34m=\u001b[0m\u001b[0mminor\u001b[0m\u001b[0;34m)\u001b[0m\u001b[0;34m\u001b[0m\u001b[0m\n\u001b[0m\u001b[1;32m   2965\u001b[0m         \u001b[0mself\u001b[0m\u001b[0;34m.\u001b[0m\u001b[0mstale\u001b[0m \u001b[0;34m=\u001b[0m \u001b[0mTrue\u001b[0m\u001b[0;34m\u001b[0m\u001b[0m\n\u001b[1;32m   2966\u001b[0m         \u001b[0;32mreturn\u001b[0m \u001b[0mret\u001b[0m\u001b[0;34m\u001b[0m\u001b[0m\n",
      "\u001b[0;32m/home/nitin/anaconda/lib/python2.7/site-packages/matplotlib/axis.pyc\u001b[0m in \u001b[0;36mset_ticks\u001b[0;34m(self, ticks, minor)\u001b[0m\n\u001b[1;32m   1626\u001b[0m             \u001b[0mxleft\u001b[0m\u001b[0;34m,\u001b[0m \u001b[0mxright\u001b[0m \u001b[0;34m=\u001b[0m \u001b[0mself\u001b[0m\u001b[0;34m.\u001b[0m\u001b[0mget_view_interval\u001b[0m\u001b[0;34m(\u001b[0m\u001b[0;34m)\u001b[0m\u001b[0;34m\u001b[0m\u001b[0m\n\u001b[1;32m   1627\u001b[0m             \u001b[0;32mif\u001b[0m \u001b[0mxright\u001b[0m \u001b[0;34m>\u001b[0m \u001b[0mxleft\u001b[0m\u001b[0;34m:\u001b[0m\u001b[0;34m\u001b[0m\u001b[0m\n\u001b[0;32m-> 1628\u001b[0;31m                 \u001b[0mself\u001b[0m\u001b[0;34m.\u001b[0m\u001b[0mset_view_interval\u001b[0m\u001b[0;34m(\u001b[0m\u001b[0mmin\u001b[0m\u001b[0;34m(\u001b[0m\u001b[0mticks\u001b[0m\u001b[0;34m)\u001b[0m\u001b[0;34m,\u001b[0m \u001b[0mmax\u001b[0m\u001b[0;34m(\u001b[0m\u001b[0mticks\u001b[0m\u001b[0;34m)\u001b[0m\u001b[0;34m)\u001b[0m\u001b[0;34m\u001b[0m\u001b[0m\n\u001b[0m\u001b[1;32m   1629\u001b[0m             \u001b[0;32melse\u001b[0m\u001b[0;34m:\u001b[0m\u001b[0;34m\u001b[0m\u001b[0m\n\u001b[1;32m   1630\u001b[0m                 \u001b[0mself\u001b[0m\u001b[0;34m.\u001b[0m\u001b[0mset_view_interval\u001b[0m\u001b[0;34m(\u001b[0m\u001b[0mmax\u001b[0m\u001b[0;34m(\u001b[0m\u001b[0mticks\u001b[0m\u001b[0;34m)\u001b[0m\u001b[0;34m,\u001b[0m \u001b[0mmin\u001b[0m\u001b[0;34m(\u001b[0m\u001b[0mticks\u001b[0m\u001b[0;34m)\u001b[0m\u001b[0;34m)\u001b[0m\u001b[0;34m\u001b[0m\u001b[0m\n",
      "\u001b[0;32m/home/nitin/anaconda/lib/python2.7/site-packages/matplotlib/axis.pyc\u001b[0m in \u001b[0;36mset_view_interval\u001b[0;34m(self, vmin, vmax, ignore)\u001b[0m\n\u001b[1;32m   1975\u001b[0m             \u001b[0mVmin\u001b[0m\u001b[0;34m,\u001b[0m \u001b[0mVmax\u001b[0m \u001b[0;34m=\u001b[0m \u001b[0mself\u001b[0m\u001b[0;34m.\u001b[0m\u001b[0mget_view_interval\u001b[0m\u001b[0;34m(\u001b[0m\u001b[0;34m)\u001b[0m\u001b[0;34m\u001b[0m\u001b[0m\n\u001b[1;32m   1976\u001b[0m             \u001b[0;32mif\u001b[0m \u001b[0mVmin\u001b[0m \u001b[0;34m<\u001b[0m \u001b[0mVmax\u001b[0m\u001b[0;34m:\u001b[0m\u001b[0;34m\u001b[0m\u001b[0m\n\u001b[0;32m-> 1977\u001b[0;31m                 self.axes.viewLim.intervalx = (min(vmin, vmax, Vmin),\n\u001b[0m\u001b[1;32m   1978\u001b[0m                                                max(vmin, vmax, Vmax))\n\u001b[1;32m   1979\u001b[0m             \u001b[0;32melse\u001b[0m\u001b[0;34m:\u001b[0m\u001b[0;34m\u001b[0m\u001b[0m\n",
      "\u001b[0;31mUnicodeDecodeError\u001b[0m: 'ascii' codec can't decode byte 0xe0 in position 6: ordinal not in range(128)"
     ]
    },
    {
     "data": {
      "image/png": "[encoded data removed]",
      "text/plain": [
       "<matplotlib.figure.Figure at 0x7f2dc9b74ed0>"
      ]
     },
     "metadata": {},
     "output_type": "display_data"
    }
   ],
   "source": [
    "plt.matshow(confusion_matrix(y_test, prediction[\"KNN\"]), cmap=plt.cm.Blues, interpolation='nearest')\n",
    "plt.title('Confusion Matrix')\n",
    "plt.colorbar()\n",
    "plt.ylabel('Expected label')\n",
    "plt.xlabel('Predicted Label')\n",
    "tick_marks = messages['class']\n",
    "plt.xticks(tick_marks)\n",
    "plt.yticks(tick_marks)\n",
    "plt.show()"
   ]
  },
  {
   "cell_type": "code",
   "execution_count": null,
   "metadata": {
    "collapsed": true
   },
   "outputs": [],
   "source": []
  }
 ],
 "metadata": {
  "kernelspec": {
   "display_name": "Python 2",
   "language": "python",
   "name": "python2"
  },
  "language_info": {
   "codemirror_mode": {
    "name": "ipython",
    "version": 2
   },
   "file_extension": ".py",
   "mimetype": "text/x-python",
   "name": "python",
   "nbconvert_exporter": "python",
   "pygments_lexer": "ipython2",
   "version": "2.7.13"
  }
 },
 "nbformat": 4,
 "nbformat_minor": 2
}
