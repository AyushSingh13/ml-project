{
 "cells": [
  {
   "cell_type": "markdown",
   "metadata": {},
   "source": [
    "# Final Project - SMS Spam Filtering\n",
    "### 600.475 - Introduction to Machine Learning\n",
    "### Archan Patel, et. al. \n",
    "\n",
    "We aim to create a simple binary spam classifier based on the UCI SMS Spam Collection Dataset. \n",
    "```\n",
    "https://www.kaggle.com/uciml/sms-spam-collection-dataset\n",
    "```\n",
    "Messages in the dataset are classifed as either \"ham\" for regular legitimate messages or spam. \n"
   ]
  },
  {
   "cell_type": "code",
   "execution_count": 63,
   "metadata": {
    "collapsed": false
   },
   "outputs": [],
   "source": [
    "%matplotlib inline\n",
    "import numpy as np\n",
    "import pandas as pd\n",
    "import csv\n",
    "import matplotlib.pyplot as plt\n",
    "#from textblob import TextBlob\n",
    "#import cPickle\n",
    "from sklearn.model_selection import train_test_split\n",
    "from sklearn.feature_extraction.text import CountVectorizer\n",
    "\n",
    "from sklearn.naive_bayes import MultinomialNB\n",
    "from sklearn.metrics import accuracy_score,confusion_matrix,classification_report"
   ]
  },
  {
   "cell_type": "markdown",
   "metadata": {},
   "source": [
    "### Data Input\n",
    "First we read the data from the data/spam.csv as retrieve from Kaggle.\n",
    "We then partition the data into training, validation, and testing sets. Much of the input and conversion to bag of words was taken from http://radimrehurek.com/data_science_python/"
   ]
  },
  {
   "cell_type": "code",
   "execution_count": 64,
   "metadata": {
    "collapsed": false
   },
   "outputs": [
    {
     "data": {
      "text/html": [
       "<div>\n",
       "<style>\n",
       "    .dataframe thead tr:only-child th {\n",
       "        text-align: right;\n",
       "    }\n",
       "\n",
       "    .dataframe thead th {\n",
       "        text-align: left;\n",
       "    }\n",
       "\n",
       "    .dataframe tbody tr th {\n",
       "        vertical-align: top;\n",
       "    }\n",
       "</style>\n",
       "<table border=\"1\" class=\"dataframe\">\n",
       "  <thead>\n",
       "    <tr style=\"text-align: right;\">\n",
       "      <th></th>\n",
       "      <th>class</th>\n",
       "      <th>text</th>\n",
       "    </tr>\n",
       "  </thead>\n",
       "  <tbody>\n",
       "    <tr>\n",
       "      <th>0</th>\n",
       "      <td>ham</td>\n",
       "      <td>Go until jurong point, crazy.. Available only ...</td>\n",
       "    </tr>\n",
       "    <tr>\n",
       "      <th>1</th>\n",
       "      <td>ham</td>\n",
       "      <td>Ok lar... Joking wif u oni...</td>\n",
       "    </tr>\n",
       "    <tr>\n",
       "      <th>2</th>\n",
       "      <td>spam</td>\n",
       "      <td>Free entry in 2 a wkly comp to win FA Cup fina...</td>\n",
       "    </tr>\n",
       "    <tr>\n",
       "      <th>3</th>\n",
       "      <td>ham</td>\n",
       "      <td>U dun say so early hor... U c already then say...</td>\n",
       "    </tr>\n",
       "    <tr>\n",
       "      <th>4</th>\n",
       "      <td>ham</td>\n",
       "      <td>Nah I don't think he goes to usf, he lives aro...</td>\n",
       "    </tr>\n",
       "  </tbody>\n",
       "</table>\n",
       "</div>"
      ],
      "text/plain": [
       "  class                                               text\n",
       "0   ham  Go until jurong point, crazy.. Available only ...\n",
       "1   ham                      Ok lar... Joking wif u oni...\n",
       "2  spam  Free entry in 2 a wkly comp to win FA Cup fina...\n",
       "3   ham  U dun say so early hor... U c already then say...\n",
       "4   ham  Nah I don't think he goes to usf, he lives aro..."
      ]
     },
     "execution_count": 64,
     "metadata": {},
     "output_type": "execute_result"
    }
   ],
   "source": [
    "#read in csv, and take relevant columns\n",
    "messages = pd.read_csv('./data/spam.csv',skiprows=1, names=[\"class\", \"text\", \"r1\", \"r2\", 'r3'], encoding='latin-1')\n",
    "del messages['r1']\n",
    "del messages['r2']\n",
    "del messages['r3']\n",
    "#messages['v2'] =messages['v2'].astype(str)\n",
    "\n",
    "#Add a length column\n",
    "#messages['length'] = messages['text'].map(lambda text: len(text))\n",
    "messages.head()"
   ]
  },
  {
   "cell_type": "code",
   "execution_count": 66,
   "metadata": {
    "collapsed": false
   },
   "outputs": [],
   "source": [
    "#print(\"Mean of ham length: \"+str(np.mean(messages[messages['class']=='ham']['length'])))\n",
    "#print(\"Mean of spam length: \"+str(np.mean(messages[messages['class']=='spam']['length'])))\n",
    "#messages.length.plot(bins=20, kind='hist')\n",
    "#messages[messages['class']=='ham']['length']\n",
    "#messages.hist(column='length', by='class', bins=50)\n",
    "\n",
    "\n",
    "#Split into training and validation data\n",
    "#SWITCH TO K-fold cross-validation\n",
    "X_train,X_test,y_train,y_test = train_test_split(messages[\"text\"],messages[\"class\"], test_size = 0.2, random_state = 10)"
   ]
  },
  {
   "cell_type": "code",
   "execution_count": 69,
   "metadata": {
    "collapsed": false
   },
   "outputs": [
    {
     "name": "stdout",
     "output_type": "stream",
     "text": [
      "CountVectorizer(analyzer=u'word', binary=False, decode_error=u'strict',\n",
      "        dtype=<type 'numpy.int64'>, encoding=u'utf-8', input=u'content',\n",
      "        lowercase=True, max_df=1.0, max_features=None, min_df=1,\n",
      "        ngram_range=(1, 1), preprocessor=None, stop_words=None,\n",
      "        strip_accents=None, token_pattern=u'(?u)\\\\b\\\\w\\\\w+\\\\b',\n",
      "        tokenizer=None, vocabulary=None)\n"
     ]
    }
   ],
   "source": [
    "# Now we create a bag of words model.\n",
    "vect = CountVectorizer()\n",
    "vect.fit(X_train)\n",
    "X_train_df = vect.transform(X_train)\n",
    "X_test_df = vect.transform(X_test)"
   ]
  },
  {
   "cell_type": "markdown",
   "metadata": {},
   "source": [
    "### Data Format\n",
    "Here we can determine a representation for raw text of the text messages. The methods used for the representation of text will determine the features of our data.\n",
    "\n",
    "The following representations where used:\n",
    "\n",
    "| Representation       | How it works   |\n",
    "| ------------- |:-------------:|\n",
    "| Bag of Words      | [stuff] |\n",
    "|       | [stuff]      |\n",
    "|  | [stuff]      |"
   ]
  },
  {
   "cell_type": "markdown",
   "metadata": {},
   "source": [
    "# Multinomial Naive bayes"
   ]
  },
  {
   "cell_type": "code",
   "execution_count": 71,
   "metadata": {
    "collapsed": false
   },
   "outputs": [
    {
     "data": {
      "text/plain": [
       "0.98834080717488793"
      ]
     },
     "execution_count": 71,
     "metadata": {},
     "output_type": "execute_result"
    }
   ],
   "source": [
    "prediction = dict() # Holds all classes for prediction.\n",
    "\n",
    "#really simple to create a model and train it.\n",
    "model = MultinomialNB()\n",
    "model.fit(X_train_df, y_train)\n",
    "prediction[\"MultinomialNB\"] = model.predict(X_test_df)\n",
    "\n",
    "accuracy_score(y_test, prediction[\"MultinomialNB\"])"
   ]
  },
  {
   "cell_type": "code",
   "execution_count": null,
   "metadata": {
    "collapsed": true
   },
   "outputs": [],
   "source": [
    "model = "
   ]
  }
 ],
 "metadata": {
  "kernelspec": {
   "display_name": "Python 2",
   "language": "python",
   "name": "python2"
  },
  "language_info": {
   "codemirror_mode": {
    "name": "ipython",
    "version": 2
   },
   "file_extension": ".py",
   "mimetype": "text/x-python",
   "name": "python",
   "nbconvert_exporter": "python",
   "pygments_lexer": "ipython2",
   "version": "2.7.11"
  }
 },
 "nbformat": 4,
 "nbformat_minor": 2
}
